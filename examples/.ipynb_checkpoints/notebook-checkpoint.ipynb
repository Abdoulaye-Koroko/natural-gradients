{
 "cells": [
  {
   "cell_type": "code",
   "execution_count": 1,
   "id": "3fbae708-4ac8-40cd-9702-d1c5a99641ce",
   "metadata": {},
   "outputs": [
    {
     "name": "stderr",
     "output_type": "stream",
     "text": [
      "/tmp/ipykernel_154814/2164428936.py:6: DeprecationWarning: Please use `gaussian_filter1d` from the `scipy.ndimage` namespace, the `scipy.ndimage.filters` namespace is deprecated.\n",
      "  from scipy.ndimage.filters import gaussian_filter1d\n"
     ]
    }
   ],
   "source": [
    "import torch.nn as nn\n",
    "import torch\n",
    "import torch.nn.functional as F\n",
    "import matplotlib.pyplot as plt\n",
    "import numpy as np\n",
    "from scipy.ndimage.filters import gaussian_filter1d\n",
    "import itertools\n",
    "import os\n",
    "from scipy.signal import find_peaks\n",
    "import cv2"
   ]
  },
  {
   "cell_type": "code",
   "execution_count": 2,
   "id": "fd9f0ecb-8a96-4102-a3de-102fdd39fbf6",
   "metadata": {},
   "outputs": [],
   "source": [
    "import matplotlib as mpl\n",
    "mpl.rcParams.update(mpl.rcParamsDefault)\n",
    "label_size = 15\n",
    "mpl.rcParams['xtick.labelsize'] = label_size\n",
    "mpl.rcParams['ytick.labelsize'] = label_size\n",
    "#print(mpl.rcParams.keys())\n",
    "mpl.rcParams['font.weight'] = 'bold'\n",
    "mpl.rcParams['font.weight'] = 'bold'\n",
    "mpl.rcParams[\"mathtext.default\"] = 'bf'\n",
    "mpl.rcParams['xtick.major.width'] = 15"
   ]
  },
  {
   "cell_type": "code",
   "execution_count": 6,
   "id": "7c5329ae-abd4-429c-8d21-722bb83caeea",
   "metadata": {},
   "outputs": [],
   "source": [
    "def plots(names,colors,root):\n",
    "    \n",
    "    epochs = np.arange(1,600)\n",
    "\n",
    "    ords = [\"train_loss\"]\n",
    "    \n",
    "    absc = ['epochs'] \n",
    "    \n",
    "    font = {\n",
    "        'color':  'black',\n",
    "        'weight': 'bold',\n",
    "        'size': 20\n",
    "        }\n",
    "    \n",
    "    #ords = ['train_itera_loss']\n",
    "    \n",
    "    #absc = ['train_itera_time','iteras']\n",
    "    \n",
    "    sigma = 1\n",
    "    \n",
    "    fig, ax = plt.subplots(nrows=1, ncols=1,figsize=(5,10))\n",
    "    \n",
    "    plt.subplots_adjust(left=None, bottom=None, right=None, top=None, wspace=0.5, hspace=0.5)\n",
    "    \n",
    "    k=-1\n",
    "    couples = list(itertools.product([0,1],[0,1]))\n",
    "    \n",
    "    for y,x in  itertools.product(ords,absc):\n",
    "        \n",
    "        k+=1\n",
    "        \n",
    "        #(i,j)=couples[k]\n",
    "        \n",
    "        i = k\n",
    "        \n",
    "        print(i)\n",
    "        \n",
    "        #print(i,j)\n",
    "        \n",
    "        print(x,y)\n",
    "        \n",
    "        #with plt.style.context('seaborn-white'):\n",
    "            \n",
    "        for name,color in zip(names,colors):\n",
    "\n",
    "            folder = os.path.join(root,name)\n",
    "\n",
    "            results = np.load(folder+'.npy',allow_pickle='TRUE').item()\n",
    "\n",
    "            results.update({'epochs':epochs})\n",
    "\n",
    "            X,Y = results[x],results[y]\n",
    "\n",
    "            Y = torch.Tensor(Y).cpu()\n",
    "\n",
    "            Y = np.array(Y,dtype=np.float64)\n",
    "\n",
    "            Y = gaussian_filter1d(Y,sigma=sigma)\n",
    "\n",
    "            label = name.upper()\n",
    "\n",
    "            ax[i].plot(results[x][:len(Y)],Y,label=label,color=color,linewidth=2)\n",
    "\n",
    "        if x==\"times\":\n",
    "\n",
    "            ax[i].set_xlabel('Time (s)',fontdict=font)\n",
    "\n",
    "        else:\n",
    "\n",
    "            ax[i].set_xlabel(\"Epoch\",fontdict=font)\n",
    "\n",
    "        if y==\"train_loss\":\n",
    "\n",
    "            ax[i].set_ylabel(\"Training loss\",fontdict=font)\n",
    "\n",
    "        elif y==\"val_loss\":\n",
    "\n",
    "            ax[i].set_ylabel(\"Validation loss\",fontdict=font)\n",
    "\n",
    "        elif y==\"train_acc\":\n",
    "\n",
    "            ax[i].set_ylabel('Train accuracy',fontdict=font)\n",
    "\n",
    "        elif y==\"val_acc\":\n",
    "\n",
    "            ax[i].set_ylabel(\"validation accuracy\",fontdict=font)\n",
    "\n",
    "        elif y==\"val_top5\":\n",
    "\n",
    "            ax[i].set_ylabel(\"validation top5 accuracy\",fontdict=font)\n",
    "\n",
    "        elif y==\"train_top5\":\n",
    "\n",
    "            ax[i].set_ylabel(\"Train top5 accuracy\",fontdict=font)\n",
    "\n",
    "        elif y==\"lrs\":\n",
    "\n",
    "            ax[i].set_ylabel(\"Learning rate\",fontdict=font)\n",
    "\n",
    "        if y in [\"train_loss\",\"val_loss\"]:\n",
    "\n",
    "            ax[i].set_yscale('log')\n",
    "    plt.show()\n",
    "    #fig.savefig(\"CNN_autoencoder/Figures/AUTO_SVHN_2048.jpg\", format='JPEG',dpi=800,transparent = True, bbox_inches = 'tight')\n",
    "            \n",
    "    "
   ]
  },
  {
   "cell_type": "code",
   "execution_count": 7,
   "id": "df82d3ba-4c46-4bae-a20b-95573a14576c",
   "metadata": {},
   "outputs": [
    {
     "name": "stdout",
     "output_type": "stream",
     "text": [
      "0\n",
      "epochs train_loss\n"
     ]
    },
    {
     "ename": "AttributeError",
     "evalue": "'list' object has no attribute 'update'",
     "output_type": "error",
     "traceback": [
      "\u001b[0;31m---------------------------------------------------------------------------\u001b[0m",
      "\u001b[0;31mAttributeError\u001b[0m                            Traceback (most recent call last)",
      "Cell \u001b[0;32mIn[7], line 4\u001b[0m\n\u001b[1;32m      2\u001b[0m names \u001b[38;5;241m=\u001b[39m [\u001b[38;5;124m\"\u001b[39m\u001b[38;5;124mkfac_emp_fisher\u001b[39m\u001b[38;5;124m\"\u001b[39m,\u001b[38;5;124m\"\u001b[39m\u001b[38;5;124mkfac_true_fisher\u001b[39m\u001b[38;5;124m\"\u001b[39m]\n\u001b[1;32m      3\u001b[0m colors \u001b[38;5;241m=\u001b[39m [\u001b[38;5;124m\"\u001b[39m\u001b[38;5;124mred\u001b[39m\u001b[38;5;124m\"\u001b[39m,\u001b[38;5;124m\"\u001b[39m\u001b[38;5;124mblue\u001b[39m\u001b[38;5;124m\"\u001b[39m,\u001b[38;5;124m\"\u001b[39m\u001b[38;5;124mgreen\u001b[39m\u001b[38;5;124m\"\u001b[39m,\u001b[38;5;124m'\u001b[39m\u001b[38;5;124mblack\u001b[39m\u001b[38;5;124m'\u001b[39m,\u001b[38;5;124m\"\u001b[39m\u001b[38;5;124mcyan\u001b[39m\u001b[38;5;124m\"\u001b[39m]\n\u001b[0;32m----> 4\u001b[0m \u001b[43mplots\u001b[49m\u001b[43m(\u001b[49m\u001b[43mnames\u001b[49m\u001b[43m,\u001b[49m\u001b[43mcolors\u001b[49m\u001b[43m,\u001b[49m\u001b[43mroot\u001b[49m\u001b[43m)\u001b[49m\n",
      "Cell \u001b[0;32mIn[6], line 50\u001b[0m, in \u001b[0;36mplots\u001b[0;34m(names, colors, root)\u001b[0m\n\u001b[1;32m     46\u001b[0m folder \u001b[38;5;241m=\u001b[39m os\u001b[38;5;241m.\u001b[39mpath\u001b[38;5;241m.\u001b[39mjoin(root,name)\n\u001b[1;32m     48\u001b[0m results \u001b[38;5;241m=\u001b[39m np\u001b[38;5;241m.\u001b[39mload(folder\u001b[38;5;241m+\u001b[39m\u001b[38;5;124m'\u001b[39m\u001b[38;5;124m.npy\u001b[39m\u001b[38;5;124m'\u001b[39m,allow_pickle\u001b[38;5;241m=\u001b[39m\u001b[38;5;124m'\u001b[39m\u001b[38;5;124mTRUE\u001b[39m\u001b[38;5;124m'\u001b[39m)\u001b[38;5;241m.\u001b[39mtolist()\n\u001b[0;32m---> 50\u001b[0m \u001b[43mresults\u001b[49m\u001b[38;5;241;43m.\u001b[39;49m\u001b[43mupdate\u001b[49m({\u001b[38;5;124m'\u001b[39m\u001b[38;5;124mepochs\u001b[39m\u001b[38;5;124m'\u001b[39m:epochs})\n\u001b[1;32m     52\u001b[0m X,Y \u001b[38;5;241m=\u001b[39m results[x],results[y]\n\u001b[1;32m     54\u001b[0m Y \u001b[38;5;241m=\u001b[39m torch\u001b[38;5;241m.\u001b[39mTensor(Y)\u001b[38;5;241m.\u001b[39mcpu()\n",
      "\u001b[0;31mAttributeError\u001b[0m: 'list' object has no attribute 'update'"
     ]
    },
    {
     "data": {
      "image/png": "[encoded data removed]",
      "text/plain": [
       "<Figure size 500x1000 with 1 Axes>"
      ]
     },
     "metadata": {},
     "output_type": "display_data"
    }
   ],
   "source": [
    "root = \"./results/\"\n",
    "names = [\"kfac_emp_fisher\",\"kfac_true_fisher\"]\n",
    "colors = [\"red\",\"blue\",\"green\",'black',\"cyan\"]\n",
    "plots(names,colors,root)"
   ]
  },
  {
   "cell_type": "code",
   "execution_count": 11,
   "id": "899862ab-bcd0-46a9-8500-1829530c5ad4",
   "metadata": {},
   "outputs": [
    {
     "name": "stdout",
     "output_type": "stream",
     "text": [
      "{'lr': 0.01, 'damping': 0.0001, 'kl': 1.0, 'weigt_decay': 0.001, 'momentum': 0.9}\n"
     ]
    }
   ],
   "source": [
    "folder = \"./results_ref/MNIST/outputs_256/kfac_params.npy\"\n",
    "results = np.load(folder,allow_pickle=True).item()\n",
    "print(results)"
   ]
  },
  {
   "cell_type": "code",
   "execution_count": null,
   "id": "f68f0620-f1d9-476d-bfb2-2abe5107c5b7",
   "metadata": {},
   "outputs": [],
   "source": []
  }
 ],
 "metadata": {
  "kernelspec": {
   "display_name": "Python 3 (ipykernel)",
   "language": "python",
   "name": "python3"
  },
  "language_info": {
   "codemirror_mode": {
    "name": "ipython",
    "version": 3
   },
   "file_extension": ".py",
   "mimetype": "text/x-python",
   "name": "python",
   "nbconvert_exporter": "python",
   "pygments_lexer": "ipython3",
   "version": "3.9.2"
  }
 },
 "nbformat": 4,
 "nbformat_minor": 5
}
